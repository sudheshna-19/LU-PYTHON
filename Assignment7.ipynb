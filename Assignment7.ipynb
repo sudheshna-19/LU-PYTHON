{
  "nbformat": 4,
  "nbformat_minor": 0,
  "metadata": {
    "colab": {
      "name": "Assignment7.ipynb",
      "provenance": [],
      "collapsed_sections": [],
      "authorship_tag": "ABX9TyN0kdglIL4A6/d1JKx6D7T2",
      "include_colab_link": true
    },
    "kernelspec": {
      "name": "python3",
      "display_name": "Python 3"
    }
  },
  "cells": [
    {
      "cell_type": "markdown",
      "metadata": {
        "id": "view-in-github",
        "colab_type": "text"
      },
      "source": [
        "<a href=\"https://colab.research.google.com/github/sudheshna-19/LU-PYTHON/blob/master/Assignment7.ipynb\" target=\"_parent\"><img src=\"https://colab.research.google.com/assets/colab-badge.svg\" alt=\"Open In Colab\"/></a>"
      ]
    },
    {
      "cell_type": "code",
      "metadata": {
        "id": "RZnWDzwGiwBo",
        "colab_type": "code",
        "colab": {
          "base_uri": "https://localhost:8080/",
          "height": 125
        },
        "outputId": "21c14a47-ad54-4c82-b339-7d0ee15e5c97"
      },
      "source": [
        "port1 = {21:\"FTP\",22:\"SSH\",23:\"telnet\",80:\"http\"}\n",
        "new_dict = dict([(value, key) for key, value in port1.items()])\n",
        "print (\"Dictionary after swapping is :  \")  \n",
        "print(\"keys: values\") \n",
        "for i in new_dict: \n",
        "  print(i, \" :  \", new_dict[i]) "
      ],
      "execution_count": 23,
      "outputs": [
        {
          "output_type": "stream",
          "text": [
            "Dictionary after swapping is :  \n",
            "keys: values\n",
            "FTP  :   21\n",
            "SSH  :   22\n",
            "telnet  :   23\n",
            "http  :   80\n"
          ],
          "name": "stdout"
        }
      ]
    },
    {
      "cell_type": "code",
      "metadata": {
        "id": "cCy__-g-jyQF",
        "colab_type": "code",
        "colab": {
          "base_uri": "https://localhost:8080/",
          "height": 35
        },
        "outputId": "d2e9a05e-298a-492a-a6b6-5dba4f42bb33"
      },
      "source": [
        "tup1 = [(1,2),(3,4),(5,6),(4,5)]\n",
        "tup2 = []\n",
        "for each in range(0,len(tup1)):\n",
        "  a,b=tup1[each]\n",
        "  tup2.append(a+b)\n",
        "print(\"The list contains sum of tuple:\",tup2)"
      ],
      "execution_count": 21,
      "outputs": [
        {
          "output_type": "stream",
          "text": [
            "The list contains sum of tuple: [3, 7, 11, 9]\n"
          ],
          "name": "stdout"
        }
      ]
    },
    {
      "cell_type": "code",
      "metadata": {
        "id": "BZEasw7D_tkw",
        "colab_type": "code",
        "colab": {}
      },
      "source": [
        ""
      ],
      "execution_count": null,
      "outputs": []
    }
  ]
}