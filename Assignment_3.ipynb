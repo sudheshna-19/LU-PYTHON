{
  "nbformat": 4,
  "nbformat_minor": 0,
  "metadata": {
    "colab": {
      "name": "Assignment 3.ipynb",
      "provenance": [],
      "collapsed_sections": [],
      "authorship_tag": "ABX9TyN6gRpg2pWzuXxkOq7mwHwj",
      "include_colab_link": true
    },
    "kernelspec": {
      "name": "python3",
      "display_name": "Python 3"
    }
  },
  "cells": [
    {
      "cell_type": "markdown",
      "metadata": {
        "id": "view-in-github",
        "colab_type": "text"
      },
      "source": [
        "<a href=\"https://colab.research.google.com/github/sudheshna-19/LU-PYTHON/blob/master/Assignment_3.ipynb\" target=\"_parent\"><img src=\"https://colab.research.google.com/assets/colab-badge.svg\" alt=\"Open In Colab\"/></a>"
      ]
    },
    {
      "cell_type": "code",
      "metadata": {
        "id": "6PZi5VnA9yjL",
        "colab_type": "code",
        "colab": {
          "base_uri": "https://localhost:8080/",
          "height": 53
        },
        "outputId": "abb55f6d-5772-468f-d993-78e1d9c593d6"
      },
      "source": [
        "num=int(input('enter your number:'))\n",
        "i=2\n",
        "if num>1:\n",
        "    if(num%i)==0:\n",
        "      print(num,\"is not a prime number\")\n",
        "    else:\n",
        "     print(num,\"is a prime number\")\n",
        "else:\n",
        "  print(num,\"is not a prime number\")"
      ],
      "execution_count": null,
      "outputs": [
        {
          "output_type": "stream",
          "text": [
            "enter your number:24\n",
            "24 is not a prime number\n"
          ],
          "name": "stdout"
        }
      ]
    },
    {
      "cell_type": "code",
      "metadata": {
        "colab_type": "code",
        "id": "VzJjCKUkFVrc",
        "colab": {
          "base_uri": "https://localhost:8080/",
          "height": 53
        },
        "outputId": "bcbab111-4c36-4f3f-ce19-d5c7a89c1fd3"
      },
      "source": [
        "num=int(input('enter your number:'))\n",
        "i=2\n",
        "if num>1:\n",
        "    if(num%i)==0:\n",
        "      print(num,\"is not a prime number\")\n",
        "    else:\n",
        "     print(num,\"is a prime number\")\n",
        "else:\n",
        "  print(num,\"is not a prime number\")"
      ],
      "execution_count": null,
      "outputs": [
        {
          "output_type": "stream",
          "text": [
            "enter your number:51\n",
            "51 is a prime number\n"
          ],
          "name": "stdout"
        }
      ]
    },
    {
      "cell_type": "code",
      "metadata": {
        "id": "5FEaolK9Z3L3",
        "colab_type": "code",
        "colab": {
          "base_uri": "https://localhost:8080/",
          "height": 935
        },
        "outputId": "8cd5d6a7-8d40-417c-a112-d84c1d5ac8a8"
      },
      "source": [
        "num = int(input(\"Please enter any number\"))\n",
        "total = 0\n",
        "value = 1\n",
        "while(value <= num):\n",
        "   total = total + value\n",
        "   value = value + 1\n",
        "   print(\"The sum of natural numbers from 1 to {0} = {1}\".format(num,total))"
      ],
      "execution_count": 10,
      "outputs": [
        {
          "output_type": "stream",
          "text": [
            "Please enter any number50\n",
            "The sum of natural numbers from 1 to 50 = 1\n",
            "The sum of natural numbers from 1 to 50 = 3\n",
            "The sum of natural numbers from 1 to 50 = 6\n",
            "The sum of natural numbers from 1 to 50 = 10\n",
            "The sum of natural numbers from 1 to 50 = 15\n",
            "The sum of natural numbers from 1 to 50 = 21\n",
            "The sum of natural numbers from 1 to 50 = 28\n",
            "The sum of natural numbers from 1 to 50 = 36\n",
            "The sum of natural numbers from 1 to 50 = 45\n",
            "The sum of natural numbers from 1 to 50 = 55\n",
            "The sum of natural numbers from 1 to 50 = 66\n",
            "The sum of natural numbers from 1 to 50 = 78\n",
            "The sum of natural numbers from 1 to 50 = 91\n",
            "The sum of natural numbers from 1 to 50 = 105\n",
            "The sum of natural numbers from 1 to 50 = 120\n",
            "The sum of natural numbers from 1 to 50 = 136\n",
            "The sum of natural numbers from 1 to 50 = 153\n",
            "The sum of natural numbers from 1 to 50 = 171\n",
            "The sum of natural numbers from 1 to 50 = 190\n",
            "The sum of natural numbers from 1 to 50 = 210\n",
            "The sum of natural numbers from 1 to 50 = 231\n",
            "The sum of natural numbers from 1 to 50 = 253\n",
            "The sum of natural numbers from 1 to 50 = 276\n",
            "The sum of natural numbers from 1 to 50 = 300\n",
            "The sum of natural numbers from 1 to 50 = 325\n",
            "The sum of natural numbers from 1 to 50 = 351\n",
            "The sum of natural numbers from 1 to 50 = 378\n",
            "The sum of natural numbers from 1 to 50 = 406\n",
            "The sum of natural numbers from 1 to 50 = 435\n",
            "The sum of natural numbers from 1 to 50 = 465\n",
            "The sum of natural numbers from 1 to 50 = 496\n",
            "The sum of natural numbers from 1 to 50 = 528\n",
            "The sum of natural numbers from 1 to 50 = 561\n",
            "The sum of natural numbers from 1 to 50 = 595\n",
            "The sum of natural numbers from 1 to 50 = 630\n",
            "The sum of natural numbers from 1 to 50 = 666\n",
            "The sum of natural numbers from 1 to 50 = 703\n",
            "The sum of natural numbers from 1 to 50 = 741\n",
            "The sum of natural numbers from 1 to 50 = 780\n",
            "The sum of natural numbers from 1 to 50 = 820\n",
            "The sum of natural numbers from 1 to 50 = 861\n",
            "The sum of natural numbers from 1 to 50 = 903\n",
            "The sum of natural numbers from 1 to 50 = 946\n",
            "The sum of natural numbers from 1 to 50 = 990\n",
            "The sum of natural numbers from 1 to 50 = 1035\n",
            "The sum of natural numbers from 1 to 50 = 1081\n",
            "The sum of natural numbers from 1 to 50 = 1128\n",
            "The sum of natural numbers from 1 to 50 = 1176\n",
            "The sum of natural numbers from 1 to 50 = 1225\n",
            "The sum of natural numbers from 1 to 50 = 1275\n"
          ],
          "name": "stdout"
        }
      ]
    },
    {
      "cell_type": "code",
      "metadata": {
        "id": "a140hSm30Jbr",
        "colab_type": "code",
        "colab": {}
      },
      "source": [
        ""
      ],
      "execution_count": null,
      "outputs": []
    }
  ]
}